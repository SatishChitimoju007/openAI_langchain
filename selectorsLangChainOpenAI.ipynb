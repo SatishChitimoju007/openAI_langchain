{
 "cells": [
  {
   "cell_type": "code",
   "execution_count": 56,
   "metadata": {},
   "outputs": [
    {
     "name": "stdout",
     "output_type": "stream",
     "text": [
      "Requirement already satisfied: openai in c:\\users\\satis\\anaconda3\\envs\\openaienv\\lib\\site-packages (1.23.2)\n",
      "Requirement already satisfied: anyio<5,>=3.5.0 in c:\\users\\satis\\anaconda3\\envs\\openaienv\\lib\\site-packages (from openai) (4.3.0)\n",
      "Requirement already satisfied: distro<2,>=1.7.0 in c:\\users\\satis\\anaconda3\\envs\\openaienv\\lib\\site-packages (from openai) (1.9.0)\n",
      "Requirement already satisfied: httpx<1,>=0.23.0 in c:\\users\\satis\\anaconda3\\envs\\openaienv\\lib\\site-packages (from openai) (0.27.0)\n",
      "Requirement already satisfied: pydantic<3,>=1.9.0 in c:\\users\\satis\\anaconda3\\envs\\openaienv\\lib\\site-packages (from openai) (2.7.0)\n",
      "Requirement already satisfied: sniffio in c:\\users\\satis\\anaconda3\\envs\\openaienv\\lib\\site-packages (from openai) (1.3.1)\n",
      "Requirement already satisfied: tqdm>4 in c:\\users\\satis\\anaconda3\\envs\\openaienv\\lib\\site-packages (from openai) (4.66.2)\n",
      "Requirement already satisfied: typing-extensions<5,>=4.7 in c:\\users\\satis\\anaconda3\\envs\\openaienv\\lib\\site-packages (from openai) (4.11.0)\n",
      "Requirement already satisfied: idna>=2.8 in c:\\users\\satis\\anaconda3\\envs\\openaienv\\lib\\site-packages (from anyio<5,>=3.5.0->openai) (3.7)\n",
      "Requirement already satisfied: certifi in c:\\users\\satis\\anaconda3\\envs\\openaienv\\lib\\site-packages (from httpx<1,>=0.23.0->openai) (2024.2.2)\n",
      "Requirement already satisfied: httpcore==1.* in c:\\users\\satis\\anaconda3\\envs\\openaienv\\lib\\site-packages (from httpx<1,>=0.23.0->openai) (1.0.5)\n",
      "Requirement already satisfied: h11<0.15,>=0.13 in c:\\users\\satis\\anaconda3\\envs\\openaienv\\lib\\site-packages (from httpcore==1.*->httpx<1,>=0.23.0->openai) (0.14.0)\n",
      "Requirement already satisfied: annotated-types>=0.4.0 in c:\\users\\satis\\anaconda3\\envs\\openaienv\\lib\\site-packages (from pydantic<3,>=1.9.0->openai) (0.6.0)\n",
      "Requirement already satisfied: pydantic-core==2.18.1 in c:\\users\\satis\\anaconda3\\envs\\openaienv\\lib\\site-packages (from pydantic<3,>=1.9.0->openai) (2.18.1)\n",
      "Requirement already satisfied: colorama in c:\\users\\satis\\anaconda3\\envs\\openaienv\\lib\\site-packages (from tqdm>4->openai) (0.4.6)\n"
     ]
    }
   ],
   "source": [
    "!pip install openai"
   ]
  },
  {
   "cell_type": "code",
   "execution_count": 57,
   "metadata": {},
   "outputs": [
    {
     "name": "stdout",
     "output_type": "stream",
     "text": [
      "Requirement already satisfied: langchain in c:\\users\\satis\\anaconda3\\envs\\openaienv\\lib\\site-packages (0.1.16)\n",
      "Requirement already satisfied: PyYAML>=5.3 in c:\\users\\satis\\anaconda3\\envs\\openaienv\\lib\\site-packages (from langchain) (6.0.1)\n",
      "Requirement already satisfied: SQLAlchemy<3,>=1.4 in c:\\users\\satis\\anaconda3\\envs\\openaienv\\lib\\site-packages (from langchain) (2.0.29)\n",
      "Requirement already satisfied: aiohttp<4.0.0,>=3.8.3 in c:\\users\\satis\\anaconda3\\envs\\openaienv\\lib\\site-packages (from langchain) (3.9.5)\n",
      "Requirement already satisfied: dataclasses-json<0.7,>=0.5.7 in c:\\users\\satis\\anaconda3\\envs\\openaienv\\lib\\site-packages (from langchain) (0.6.4)\n",
      "Requirement already satisfied: jsonpatch<2.0,>=1.33 in c:\\users\\satis\\anaconda3\\envs\\openaienv\\lib\\site-packages (from langchain) (1.33)\n",
      "Requirement already satisfied: langchain-community<0.1,>=0.0.32 in c:\\users\\satis\\anaconda3\\envs\\openaienv\\lib\\site-packages (from langchain) (0.0.34)\n",
      "Requirement already satisfied: langchain-core<0.2.0,>=0.1.42 in c:\\users\\satis\\anaconda3\\envs\\openaienv\\lib\\site-packages (from langchain) (0.1.45)\n",
      "Requirement already satisfied: langchain-text-splitters<0.1,>=0.0.1 in c:\\users\\satis\\anaconda3\\envs\\openaienv\\lib\\site-packages (from langchain) (0.0.1)\n",
      "Requirement already satisfied: langsmith<0.2.0,>=0.1.17 in c:\\users\\satis\\anaconda3\\envs\\openaienv\\lib\\site-packages (from langchain) (0.1.49)\n",
      "Requirement already satisfied: numpy<2,>=1 in c:\\users\\satis\\anaconda3\\envs\\openaienv\\lib\\site-packages (from langchain) (1.26.4)\n",
      "Requirement already satisfied: pydantic<3,>=1 in c:\\users\\satis\\anaconda3\\envs\\openaienv\\lib\\site-packages (from langchain) (2.7.0)\n",
      "Requirement already satisfied: requests<3,>=2 in c:\\users\\satis\\anaconda3\\envs\\openaienv\\lib\\site-packages (from langchain) (2.31.0)\n",
      "Requirement already satisfied: tenacity<9.0.0,>=8.1.0 in c:\\users\\satis\\anaconda3\\envs\\openaienv\\lib\\site-packages (from langchain) (8.2.3)\n",
      "Requirement already satisfied: aiosignal>=1.1.2 in c:\\users\\satis\\anaconda3\\envs\\openaienv\\lib\\site-packages (from aiohttp<4.0.0,>=3.8.3->langchain) (1.3.1)\n",
      "Requirement already satisfied: attrs>=17.3.0 in c:\\users\\satis\\anaconda3\\envs\\openaienv\\lib\\site-packages (from aiohttp<4.0.0,>=3.8.3->langchain) (23.2.0)\n",
      "Requirement already satisfied: frozenlist>=1.1.1 in c:\\users\\satis\\anaconda3\\envs\\openaienv\\lib\\site-packages (from aiohttp<4.0.0,>=3.8.3->langchain) (1.4.1)\n",
      "Requirement already satisfied: multidict<7.0,>=4.5 in c:\\users\\satis\\anaconda3\\envs\\openaienv\\lib\\site-packages (from aiohttp<4.0.0,>=3.8.3->langchain) (6.0.5)\n",
      "Requirement already satisfied: yarl<2.0,>=1.0 in c:\\users\\satis\\anaconda3\\envs\\openaienv\\lib\\site-packages (from aiohttp<4.0.0,>=3.8.3->langchain) (1.9.4)\n",
      "Requirement already satisfied: marshmallow<4.0.0,>=3.18.0 in c:\\users\\satis\\anaconda3\\envs\\openaienv\\lib\\site-packages (from dataclasses-json<0.7,>=0.5.7->langchain) (3.21.1)\n",
      "Requirement already satisfied: typing-inspect<1,>=0.4.0 in c:\\users\\satis\\anaconda3\\envs\\openaienv\\lib\\site-packages (from dataclasses-json<0.7,>=0.5.7->langchain) (0.9.0)\n",
      "Requirement already satisfied: jsonpointer>=1.9 in c:\\users\\satis\\anaconda3\\envs\\openaienv\\lib\\site-packages (from jsonpatch<2.0,>=1.33->langchain) (2.4)\n",
      "Requirement already satisfied: packaging<24.0,>=23.2 in c:\\users\\satis\\anaconda3\\envs\\openaienv\\lib\\site-packages (from langchain-core<0.2.0,>=0.1.42->langchain) (23.2)\n",
      "Requirement already satisfied: orjson<4.0.0,>=3.9.14 in c:\\users\\satis\\anaconda3\\envs\\openaienv\\lib\\site-packages (from langsmith<0.2.0,>=0.1.17->langchain) (3.10.1)\n",
      "Requirement already satisfied: annotated-types>=0.4.0 in c:\\users\\satis\\anaconda3\\envs\\openaienv\\lib\\site-packages (from pydantic<3,>=1->langchain) (0.6.0)\n",
      "Requirement already satisfied: pydantic-core==2.18.1 in c:\\users\\satis\\anaconda3\\envs\\openaienv\\lib\\site-packages (from pydantic<3,>=1->langchain) (2.18.1)\n",
      "Requirement already satisfied: typing-extensions>=4.6.1 in c:\\users\\satis\\anaconda3\\envs\\openaienv\\lib\\site-packages (from pydantic<3,>=1->langchain) (4.11.0)\n",
      "Requirement already satisfied: charset-normalizer<4,>=2 in c:\\users\\satis\\anaconda3\\envs\\openaienv\\lib\\site-packages (from requests<3,>=2->langchain) (3.3.2)\n",
      "Requirement already satisfied: idna<4,>=2.5 in c:\\users\\satis\\anaconda3\\envs\\openaienv\\lib\\site-packages (from requests<3,>=2->langchain) (3.7)\n",
      "Requirement already satisfied: urllib3<3,>=1.21.1 in c:\\users\\satis\\anaconda3\\envs\\openaienv\\lib\\site-packages (from requests<3,>=2->langchain) (2.2.1)\n",
      "Requirement already satisfied: certifi>=2017.4.17 in c:\\users\\satis\\anaconda3\\envs\\openaienv\\lib\\site-packages (from requests<3,>=2->langchain) (2024.2.2)\n",
      "Requirement already satisfied: greenlet!=0.4.17 in c:\\users\\satis\\anaconda3\\envs\\openaienv\\lib\\site-packages (from SQLAlchemy<3,>=1.4->langchain) (3.0.3)\n",
      "Requirement already satisfied: mypy-extensions>=0.3.0 in c:\\users\\satis\\anaconda3\\envs\\openaienv\\lib\\site-packages (from typing-inspect<1,>=0.4.0->dataclasses-json<0.7,>=0.5.7->langchain) (1.0.0)\n",
      "Requirement already satisfied: langchain-openai in c:\\users\\satis\\anaconda3\\envs\\openaienv\\lib\\site-packages (0.1.3)\n",
      "Requirement already satisfied: langchain-core<0.2.0,>=0.1.42 in c:\\users\\satis\\anaconda3\\envs\\openaienv\\lib\\site-packages (from langchain-openai) (0.1.45)\n",
      "Requirement already satisfied: openai<2.0.0,>=1.10.0 in c:\\users\\satis\\anaconda3\\envs\\openaienv\\lib\\site-packages (from langchain-openai) (1.23.2)\n",
      "Requirement already satisfied: tiktoken<1,>=0.5.2 in c:\\users\\satis\\anaconda3\\envs\\openaienv\\lib\\site-packages (from langchain-openai) (0.6.0)\n",
      "Requirement already satisfied: PyYAML>=5.3 in c:\\users\\satis\\anaconda3\\envs\\openaienv\\lib\\site-packages (from langchain-core<0.2.0,>=0.1.42->langchain-openai) (6.0.1)\n",
      "Requirement already satisfied: jsonpatch<2.0,>=1.33 in c:\\users\\satis\\anaconda3\\envs\\openaienv\\lib\\site-packages (from langchain-core<0.2.0,>=0.1.42->langchain-openai) (1.33)\n",
      "Requirement already satisfied: langsmith<0.2.0,>=0.1.0 in c:\\users\\satis\\anaconda3\\envs\\openaienv\\lib\\site-packages (from langchain-core<0.2.0,>=0.1.42->langchain-openai) (0.1.49)\n",
      "Requirement already satisfied: packaging<24.0,>=23.2 in c:\\users\\satis\\anaconda3\\envs\\openaienv\\lib\\site-packages (from langchain-core<0.2.0,>=0.1.42->langchain-openai) (23.2)\n",
      "Requirement already satisfied: pydantic<3,>=1 in c:\\users\\satis\\anaconda3\\envs\\openaienv\\lib\\site-packages (from langchain-core<0.2.0,>=0.1.42->langchain-openai) (2.7.0)\n",
      "Requirement already satisfied: tenacity<9.0.0,>=8.1.0 in c:\\users\\satis\\anaconda3\\envs\\openaienv\\lib\\site-packages (from langchain-core<0.2.0,>=0.1.42->langchain-openai) (8.2.3)\n",
      "Requirement already satisfied: anyio<5,>=3.5.0 in c:\\users\\satis\\anaconda3\\envs\\openaienv\\lib\\site-packages (from openai<2.0.0,>=1.10.0->langchain-openai) (4.3.0)\n",
      "Requirement already satisfied: distro<2,>=1.7.0 in c:\\users\\satis\\anaconda3\\envs\\openaienv\\lib\\site-packages (from openai<2.0.0,>=1.10.0->langchain-openai) (1.9.0)\n",
      "Requirement already satisfied: httpx<1,>=0.23.0 in c:\\users\\satis\\anaconda3\\envs\\openaienv\\lib\\site-packages (from openai<2.0.0,>=1.10.0->langchain-openai) (0.27.0)\n",
      "Requirement already satisfied: sniffio in c:\\users\\satis\\anaconda3\\envs\\openaienv\\lib\\site-packages (from openai<2.0.0,>=1.10.0->langchain-openai) (1.3.1)\n",
      "Requirement already satisfied: tqdm>4 in c:\\users\\satis\\anaconda3\\envs\\openaienv\\lib\\site-packages (from openai<2.0.0,>=1.10.0->langchain-openai) (4.66.2)\n",
      "Requirement already satisfied: typing-extensions<5,>=4.7 in c:\\users\\satis\\anaconda3\\envs\\openaienv\\lib\\site-packages (from openai<2.0.0,>=1.10.0->langchain-openai) (4.11.0)\n",
      "Requirement already satisfied: regex>=2022.1.18 in c:\\users\\satis\\anaconda3\\envs\\openaienv\\lib\\site-packages (from tiktoken<1,>=0.5.2->langchain-openai) (2024.4.16)\n",
      "Requirement already satisfied: requests>=2.26.0 in c:\\users\\satis\\anaconda3\\envs\\openaienv\\lib\\site-packages (from tiktoken<1,>=0.5.2->langchain-openai) (2.31.0)\n",
      "Requirement already satisfied: idna>=2.8 in c:\\users\\satis\\anaconda3\\envs\\openaienv\\lib\\site-packages (from anyio<5,>=3.5.0->openai<2.0.0,>=1.10.0->langchain-openai) (3.7)\n",
      "Requirement already satisfied: certifi in c:\\users\\satis\\anaconda3\\envs\\openaienv\\lib\\site-packages (from httpx<1,>=0.23.0->openai<2.0.0,>=1.10.0->langchain-openai) (2024.2.2)\n",
      "Requirement already satisfied: httpcore==1.* in c:\\users\\satis\\anaconda3\\envs\\openaienv\\lib\\site-packages (from httpx<1,>=0.23.0->openai<2.0.0,>=1.10.0->langchain-openai) (1.0.5)\n",
      "Requirement already satisfied: h11<0.15,>=0.13 in c:\\users\\satis\\anaconda3\\envs\\openaienv\\lib\\site-packages (from httpcore==1.*->httpx<1,>=0.23.0->openai<2.0.0,>=1.10.0->langchain-openai) (0.14.0)\n",
      "Requirement already satisfied: jsonpointer>=1.9 in c:\\users\\satis\\anaconda3\\envs\\openaienv\\lib\\site-packages (from jsonpatch<2.0,>=1.33->langchain-core<0.2.0,>=0.1.42->langchain-openai) (2.4)\n",
      "Requirement already satisfied: orjson<4.0.0,>=3.9.14 in c:\\users\\satis\\anaconda3\\envs\\openaienv\\lib\\site-packages (from langsmith<0.2.0,>=0.1.0->langchain-core<0.2.0,>=0.1.42->langchain-openai) (3.10.1)\n",
      "Requirement already satisfied: annotated-types>=0.4.0 in c:\\users\\satis\\anaconda3\\envs\\openaienv\\lib\\site-packages (from pydantic<3,>=1->langchain-core<0.2.0,>=0.1.42->langchain-openai) (0.6.0)\n",
      "Requirement already satisfied: pydantic-core==2.18.1 in c:\\users\\satis\\anaconda3\\envs\\openaienv\\lib\\site-packages (from pydantic<3,>=1->langchain-core<0.2.0,>=0.1.42->langchain-openai) (2.18.1)\n",
      "Requirement already satisfied: charset-normalizer<4,>=2 in c:\\users\\satis\\anaconda3\\envs\\openaienv\\lib\\site-packages (from requests>=2.26.0->tiktoken<1,>=0.5.2->langchain-openai) (3.3.2)\n",
      "Requirement already satisfied: urllib3<3,>=1.21.1 in c:\\users\\satis\\anaconda3\\envs\\openaienv\\lib\\site-packages (from requests>=2.26.0->tiktoken<1,>=0.5.2->langchain-openai) (2.2.1)\n",
      "Requirement already satisfied: colorama in c:\\users\\satis\\anaconda3\\envs\\openaienv\\lib\\site-packages (from tqdm>4->openai<2.0.0,>=1.10.0->langchain-openai) (0.4.6)\n"
     ]
    }
   ],
   "source": [
    "!pip install langchain\n",
    "!pip install langchain-openai"
   ]
  },
  {
   "cell_type": "code",
   "execution_count": 58,
   "metadata": {},
   "outputs": [
    {
     "name": "stdout",
     "output_type": "stream",
     "text": [
      "Requirement already satisfied: chromadb==0.3.22 in c:\\users\\satis\\anaconda3\\envs\\openaienv\\lib\\site-packages (0.3.22)\n",
      "Requirement already satisfied: pandas>=1.3 in c:\\users\\satis\\anaconda3\\envs\\openaienv\\lib\\site-packages (from chromadb==0.3.22) (2.2.2)\n",
      "Requirement already satisfied: requests>=2.28 in c:\\users\\satis\\anaconda3\\envs\\openaienv\\lib\\site-packages (from chromadb==0.3.22) (2.31.0)\n",
      "Requirement already satisfied: pydantic>=1.9 in c:\\users\\satis\\anaconda3\\envs\\openaienv\\lib\\site-packages (from chromadb==0.3.22) (2.7.0)\n",
      "Requirement already satisfied: hnswlib>=0.7 in c:\\users\\satis\\anaconda3\\envs\\openaienv\\lib\\site-packages (from chromadb==0.3.22) (0.8.0)\n",
      "Requirement already satisfied: clickhouse-connect>=0.5.7 in c:\\users\\satis\\anaconda3\\envs\\openaienv\\lib\\site-packages (from chromadb==0.3.22) (0.7.8)\n",
      "Requirement already satisfied: sentence-transformers>=2.2.2 in c:\\users\\satis\\anaconda3\\envs\\openaienv\\lib\\site-packages (from chromadb==0.3.22) (2.7.0)\n",
      "Requirement already satisfied: duckdb>=0.7.1 in c:\\users\\satis\\anaconda3\\envs\\openaienv\\lib\\site-packages (from chromadb==0.3.22) (0.10.2)\n",
      "Requirement already satisfied: fastapi>=0.85.1 in c:\\users\\satis\\anaconda3\\envs\\openaienv\\lib\\site-packages (from chromadb==0.3.22) (0.110.2)\n",
      "Requirement already satisfied: uvicorn>=0.18.3 in c:\\users\\satis\\anaconda3\\envs\\openaienv\\lib\\site-packages (from uvicorn[standard]>=0.18.3->chromadb==0.3.22) (0.29.0)\n",
      "Requirement already satisfied: numpy>=1.21.6 in c:\\users\\satis\\anaconda3\\envs\\openaienv\\lib\\site-packages (from chromadb==0.3.22) (1.26.4)\n",
      "Requirement already satisfied: posthog>=2.4.0 in c:\\users\\satis\\anaconda3\\envs\\openaienv\\lib\\site-packages (from chromadb==0.3.22) (3.5.0)\n",
      "Requirement already satisfied: typing-extensions>=4.5.0 in c:\\users\\satis\\anaconda3\\envs\\openaienv\\lib\\site-packages (from chromadb==0.3.22) (4.11.0)\n",
      "Requirement already satisfied: certifi in c:\\users\\satis\\anaconda3\\envs\\openaienv\\lib\\site-packages (from clickhouse-connect>=0.5.7->chromadb==0.3.22) (2024.2.2)\n",
      "Requirement already satisfied: urllib3>=1.26 in c:\\users\\satis\\anaconda3\\envs\\openaienv\\lib\\site-packages (from clickhouse-connect>=0.5.7->chromadb==0.3.22) (2.2.1)\n",
      "Requirement already satisfied: pytz in c:\\users\\satis\\anaconda3\\envs\\openaienv\\lib\\site-packages (from clickhouse-connect>=0.5.7->chromadb==0.3.22) (2024.1)\n",
      "Requirement already satisfied: zstandard in c:\\users\\satis\\anaconda3\\envs\\openaienv\\lib\\site-packages (from clickhouse-connect>=0.5.7->chromadb==0.3.22) (0.22.0)\n",
      "Requirement already satisfied: lz4 in c:\\users\\satis\\anaconda3\\envs\\openaienv\\lib\\site-packages (from clickhouse-connect>=0.5.7->chromadb==0.3.22) (4.3.3)\n",
      "Requirement already satisfied: starlette<0.38.0,>=0.37.2 in c:\\users\\satis\\anaconda3\\envs\\openaienv\\lib\\site-packages (from fastapi>=0.85.1->chromadb==0.3.22) (0.37.2)\n",
      "Requirement already satisfied: python-dateutil>=2.8.2 in c:\\users\\satis\\anaconda3\\envs\\openaienv\\lib\\site-packages (from pandas>=1.3->chromadb==0.3.22) (2.9.0)\n",
      "Requirement already satisfied: tzdata>=2022.7 in c:\\users\\satis\\anaconda3\\envs\\openaienv\\lib\\site-packages (from pandas>=1.3->chromadb==0.3.22) (2024.1)\n",
      "Requirement already satisfied: six>=1.5 in c:\\users\\satis\\anaconda3\\envs\\openaienv\\lib\\site-packages (from posthog>=2.4.0->chromadb==0.3.22) (1.16.0)\n",
      "Requirement already satisfied: monotonic>=1.5 in c:\\users\\satis\\anaconda3\\envs\\openaienv\\lib\\site-packages (from posthog>=2.4.0->chromadb==0.3.22) (1.6)\n",
      "Requirement already satisfied: backoff>=1.10.0 in c:\\users\\satis\\anaconda3\\envs\\openaienv\\lib\\site-packages (from posthog>=2.4.0->chromadb==0.3.22) (2.2.1)\n",
      "Requirement already satisfied: annotated-types>=0.4.0 in c:\\users\\satis\\anaconda3\\envs\\openaienv\\lib\\site-packages (from pydantic>=1.9->chromadb==0.3.22) (0.6.0)\n",
      "Requirement already satisfied: pydantic-core==2.18.1 in c:\\users\\satis\\anaconda3\\envs\\openaienv\\lib\\site-packages (from pydantic>=1.9->chromadb==0.3.22) (2.18.1)\n",
      "Requirement already satisfied: charset-normalizer<4,>=2 in c:\\users\\satis\\anaconda3\\envs\\openaienv\\lib\\site-packages (from requests>=2.28->chromadb==0.3.22) (3.3.2)\n",
      "Requirement already satisfied: idna<4,>=2.5 in c:\\users\\satis\\anaconda3\\envs\\openaienv\\lib\\site-packages (from requests>=2.28->chromadb==0.3.22) (3.7)\n",
      "Requirement already satisfied: transformers<5.0.0,>=4.34.0 in c:\\users\\satis\\anaconda3\\envs\\openaienv\\lib\\site-packages (from sentence-transformers>=2.2.2->chromadb==0.3.22) (4.40.1)\n",
      "Requirement already satisfied: tqdm in c:\\users\\satis\\anaconda3\\envs\\openaienv\\lib\\site-packages (from sentence-transformers>=2.2.2->chromadb==0.3.22) (4.66.2)\n",
      "Requirement already satisfied: torch>=1.11.0 in c:\\users\\satis\\anaconda3\\envs\\openaienv\\lib\\site-packages (from sentence-transformers>=2.2.2->chromadb==0.3.22) (2.3.0)\n",
      "Requirement already satisfied: scikit-learn in c:\\users\\satis\\anaconda3\\envs\\openaienv\\lib\\site-packages (from sentence-transformers>=2.2.2->chromadb==0.3.22) (1.4.2)\n",
      "Requirement already satisfied: scipy in c:\\users\\satis\\anaconda3\\envs\\openaienv\\lib\\site-packages (from sentence-transformers>=2.2.2->chromadb==0.3.22) (1.13.0)\n",
      "Requirement already satisfied: huggingface-hub>=0.15.1 in c:\\users\\satis\\anaconda3\\envs\\openaienv\\lib\\site-packages (from sentence-transformers>=2.2.2->chromadb==0.3.22) (0.22.2)\n",
      "Requirement already satisfied: Pillow in c:\\users\\satis\\anaconda3\\envs\\openaienv\\lib\\site-packages (from sentence-transformers>=2.2.2->chromadb==0.3.22) (10.3.0)\n",
      "Requirement already satisfied: click>=7.0 in c:\\users\\satis\\anaconda3\\envs\\openaienv\\lib\\site-packages (from uvicorn>=0.18.3->uvicorn[standard]>=0.18.3->chromadb==0.3.22) (8.1.7)\n",
      "Requirement already satisfied: h11>=0.8 in c:\\users\\satis\\anaconda3\\envs\\openaienv\\lib\\site-packages (from uvicorn>=0.18.3->uvicorn[standard]>=0.18.3->chromadb==0.3.22) (0.14.0)\n",
      "Requirement already satisfied: colorama>=0.4 in c:\\users\\satis\\anaconda3\\envs\\openaienv\\lib\\site-packages (from uvicorn[standard]>=0.18.3->chromadb==0.3.22) (0.4.6)\n",
      "Requirement already satisfied: httptools>=0.5.0 in c:\\users\\satis\\anaconda3\\envs\\openaienv\\lib\\site-packages (from uvicorn[standard]>=0.18.3->chromadb==0.3.22) (0.6.1)\n",
      "Requirement already satisfied: python-dotenv>=0.13 in c:\\users\\satis\\anaconda3\\envs\\openaienv\\lib\\site-packages (from uvicorn[standard]>=0.18.3->chromadb==0.3.22) (1.0.1)\n",
      "Requirement already satisfied: pyyaml>=5.1 in c:\\users\\satis\\anaconda3\\envs\\openaienv\\lib\\site-packages (from uvicorn[standard]>=0.18.3->chromadb==0.3.22) (6.0.1)\n",
      "Requirement already satisfied: watchfiles>=0.13 in c:\\users\\satis\\anaconda3\\envs\\openaienv\\lib\\site-packages (from uvicorn[standard]>=0.18.3->chromadb==0.3.22) (0.21.0)\n",
      "Requirement already satisfied: websockets>=10.4 in c:\\users\\satis\\anaconda3\\envs\\openaienv\\lib\\site-packages (from uvicorn[standard]>=0.18.3->chromadb==0.3.22) (12.0)\n",
      "Requirement already satisfied: filelock in c:\\users\\satis\\anaconda3\\envs\\openaienv\\lib\\site-packages (from huggingface-hub>=0.15.1->sentence-transformers>=2.2.2->chromadb==0.3.22) (3.13.4)\n",
      "Requirement already satisfied: fsspec>=2023.5.0 in c:\\users\\satis\\anaconda3\\envs\\openaienv\\lib\\site-packages (from huggingface-hub>=0.15.1->sentence-transformers>=2.2.2->chromadb==0.3.22) (2024.3.1)\n",
      "Requirement already satisfied: packaging>=20.9 in c:\\users\\satis\\anaconda3\\envs\\openaienv\\lib\\site-packages (from huggingface-hub>=0.15.1->sentence-transformers>=2.2.2->chromadb==0.3.22) (23.2)\n",
      "Requirement already satisfied: anyio<5,>=3.4.0 in c:\\users\\satis\\anaconda3\\envs\\openaienv\\lib\\site-packages (from starlette<0.38.0,>=0.37.2->fastapi>=0.85.1->chromadb==0.3.22) (4.3.0)\n",
      "Requirement already satisfied: sympy in c:\\users\\satis\\anaconda3\\envs\\openaienv\\lib\\site-packages (from torch>=1.11.0->sentence-transformers>=2.2.2->chromadb==0.3.22) (1.12)\n",
      "Requirement already satisfied: networkx in c:\\users\\satis\\anaconda3\\envs\\openaienv\\lib\\site-packages (from torch>=1.11.0->sentence-transformers>=2.2.2->chromadb==0.3.22) (3.3)\n",
      "Requirement already satisfied: jinja2 in c:\\users\\satis\\anaconda3\\envs\\openaienv\\lib\\site-packages (from torch>=1.11.0->sentence-transformers>=2.2.2->chromadb==0.3.22) (3.1.3)\n",
      "Requirement already satisfied: mkl<=2021.4.0,>=2021.1.1 in c:\\users\\satis\\anaconda3\\envs\\openaienv\\lib\\site-packages (from torch>=1.11.0->sentence-transformers>=2.2.2->chromadb==0.3.22) (2021.4.0)\n",
      "Requirement already satisfied: regex!=2019.12.17 in c:\\users\\satis\\anaconda3\\envs\\openaienv\\lib\\site-packages (from transformers<5.0.0,>=4.34.0->sentence-transformers>=2.2.2->chromadb==0.3.22) (2024.4.16)\n",
      "Requirement already satisfied: tokenizers<0.20,>=0.19 in c:\\users\\satis\\anaconda3\\envs\\openaienv\\lib\\site-packages (from transformers<5.0.0,>=4.34.0->sentence-transformers>=2.2.2->chromadb==0.3.22) (0.19.1)\n",
      "Requirement already satisfied: safetensors>=0.4.1 in c:\\users\\satis\\anaconda3\\envs\\openaienv\\lib\\site-packages (from transformers<5.0.0,>=4.34.0->sentence-transformers>=2.2.2->chromadb==0.3.22) (0.4.3)\n",
      "Requirement already satisfied: joblib>=1.2.0 in c:\\users\\satis\\anaconda3\\envs\\openaienv\\lib\\site-packages (from scikit-learn->sentence-transformers>=2.2.2->chromadb==0.3.22) (1.4.0)\n",
      "Requirement already satisfied: threadpoolctl>=2.0.0 in c:\\users\\satis\\anaconda3\\envs\\openaienv\\lib\\site-packages (from scikit-learn->sentence-transformers>=2.2.2->chromadb==0.3.22) (3.4.0)\n",
      "Requirement already satisfied: sniffio>=1.1 in c:\\users\\satis\\anaconda3\\envs\\openaienv\\lib\\site-packages (from anyio<5,>=3.4.0->starlette<0.38.0,>=0.37.2->fastapi>=0.85.1->chromadb==0.3.22) (1.3.1)\n",
      "Requirement already satisfied: intel-openmp==2021.* in c:\\users\\satis\\anaconda3\\envs\\openaienv\\lib\\site-packages (from mkl<=2021.4.0,>=2021.1.1->torch>=1.11.0->sentence-transformers>=2.2.2->chromadb==0.3.22) (2021.4.0)\n",
      "Requirement already satisfied: tbb==2021.* in c:\\users\\satis\\anaconda3\\envs\\openaienv\\lib\\site-packages (from mkl<=2021.4.0,>=2021.1.1->torch>=1.11.0->sentence-transformers>=2.2.2->chromadb==0.3.22) (2021.12.0)\n",
      "Requirement already satisfied: MarkupSafe>=2.0 in c:\\users\\satis\\anaconda3\\envs\\openaienv\\lib\\site-packages (from jinja2->torch>=1.11.0->sentence-transformers>=2.2.2->chromadb==0.3.22) (2.1.5)\n",
      "Requirement already satisfied: mpmath>=0.19 in c:\\users\\satis\\anaconda3\\envs\\openaienv\\lib\\site-packages (from sympy->torch>=1.11.0->sentence-transformers>=2.2.2->chromadb==0.3.22) (1.3.0)\n"
     ]
    }
   ],
   "source": [
    "!pip install chromadb==0.3.22"
   ]
  },
  {
   "cell_type": "code",
   "execution_count": 59,
   "metadata": {},
   "outputs": [
    {
     "name": "stdout",
     "output_type": "stream",
     "text": [
      "Requirement already satisfied: tiktoken in c:\\users\\satis\\anaconda3\\envs\\openaienv\\lib\\site-packages (0.6.0)\n",
      "Requirement already satisfied: regex>=2022.1.18 in c:\\users\\satis\\anaconda3\\envs\\openaienv\\lib\\site-packages (from tiktoken) (2024.4.16)\n",
      "Requirement already satisfied: requests>=2.26.0 in c:\\users\\satis\\anaconda3\\envs\\openaienv\\lib\\site-packages (from tiktoken) (2.31.0)\n",
      "Requirement already satisfied: charset-normalizer<4,>=2 in c:\\users\\satis\\anaconda3\\envs\\openaienv\\lib\\site-packages (from requests>=2.26.0->tiktoken) (3.3.2)\n",
      "Requirement already satisfied: idna<4,>=2.5 in c:\\users\\satis\\anaconda3\\envs\\openaienv\\lib\\site-packages (from requests>=2.26.0->tiktoken) (3.7)\n",
      "Requirement already satisfied: urllib3<3,>=1.21.1 in c:\\users\\satis\\anaconda3\\envs\\openaienv\\lib\\site-packages (from requests>=2.26.0->tiktoken) (2.2.1)\n",
      "Requirement already satisfied: certifi>=2017.4.17 in c:\\users\\satis\\anaconda3\\envs\\openaienv\\lib\\site-packages (from requests>=2.26.0->tiktoken) (2024.2.2)\n"
     ]
    }
   ],
   "source": [
    "!pip install tiktoken"
   ]
  },
  {
   "cell_type": "code",
   "execution_count": 60,
   "metadata": {},
   "outputs": [],
   "source": [
    "import os\n",
    "os.environ[\"OPENAI_API_KEY\"] = \"************************\""
   ]
  },
  {
   "cell_type": "code",
   "execution_count": 61,
   "metadata": {},
   "outputs": [],
   "source": [
    "import warnings\n",
    "warnings.filterwarnings(\"ignore\",category=DeprecationWarning)"
   ]
  },
  {
   "cell_type": "code",
   "execution_count": 62,
   "metadata": {},
   "outputs": [],
   "source": [
    "from langchain.prompts import PromptTemplate, FewShotPromptTemplate\n",
    "from langchain.prompts.example_selector import LengthBasedExampleSelector"
   ]
  },
  {
   "cell_type": "code",
   "execution_count": 63,
   "metadata": {},
   "outputs": [],
   "source": [
    "examples_legnth =[\n",
    "    {\n",
    "        \"Player\" : \"Mahendra Singh Dhoni\",\n",
    "        \"IPL Team\" : \"Chennai Super Kings\",\n",
    "        \"Stats\" : \"\"\"\n",
    "        Innings: 223\n",
    "        Aggregate: 5169\n",
    "        Highest Score: 84*\n",
    "        \"\"\",\n",
    "    },\n",
    "    {\n",
    "        \"Player\" : \"Dinesh Karthik\",\n",
    "        \"IPL Team\" : \"Delhi Capitals, Gujarat Lions, Kolkata Knight Riders, Mumbai Indians, Punjab Kings, Royal Challengers Bangalore\",\n",
    "        \"Stats\" : \"\"\"\n",
    "        Innings: 196\n",
    "        Aggregate: 3867\n",
    "        Highest Score: 97*\n",
    "        \"\"\",\n",
    "    },\n",
    "    {\n",
    "      \"Player\" : \"Rohit Sharma\",\n",
    "      \"IPL Team\" : \"Deccan Chargers , Mumbai Indians\",\n",
    "      \"Stats\" : \"\"\"\n",
    "       Innings: 245\n",
    "       Aggregate: 6508\n",
    "       Highest Score: 108*\n",
    "       \"\"\",   \n",
    "    }\n",
    "]"
   ]
  },
  {
   "cell_type": "code",
   "execution_count": 64,
   "metadata": {},
   "outputs": [],
   "source": [
    "example_prompt = PromptTemplate(\n",
    "    input_variables= [\"Player\", \"Teams\",\"Stats\"],\n",
    "    template=\"Player: {Player}\\n{IPL Team}\\n {Stats}\" \n",
    ")"
   ]
  },
  {
   "cell_type": "code",
   "execution_count": 65,
   "metadata": {},
   "outputs": [],
   "source": [
    "example_selector = LengthBasedExampleSelector(\n",
    "    examples = examples_legnth,\n",
    "    example_prompt=example_prompt,\n",
    "    max_length = 70\n",
    ")"
   ]
  },
  {
   "cell_type": "code",
   "execution_count": 66,
   "metadata": {},
   "outputs": [],
   "source": [
    "prompt = FewShotPromptTemplate(\n",
    "    example_prompt=example_prompt,\n",
    "    example_selector=example_selector,\n",
    "    prefix=\"I want to get the IPL Team and stats of the player\",\n",
    "    suffix=\"Player: {input}\",\n",
    "    input_variables=['input']\n",
    ")"
   ]
  },
  {
   "cell_type": "code",
   "execution_count": 67,
   "metadata": {},
   "outputs": [
    {
     "name": "stdout",
     "output_type": "stream",
     "text": [
      "I want to get the IPL Team and stats of the player\n",
      "\n",
      "Player: Mahendra Singh Dhoni\n",
      "Chennai Super Kings\n",
      " \n",
      "        Innings: 223\n",
      "        Aggregate: 5169\n",
      "        Highest Score: 84*\n",
      "        \n",
      "\n",
      "Player: Kl rahul\n"
     ]
    }
   ],
   "source": [
    "print(prompt.format(input=\"Kl rahul\"))"
   ]
  },
  {
   "cell_type": "code",
   "execution_count": 68,
   "metadata": {},
   "outputs": [],
   "source": [
    "#Token Max Length\n",
    "from langchain.chat_models import ChatOpenAI"
   ]
  },
  {
   "cell_type": "code",
   "execution_count": 69,
   "metadata": {},
   "outputs": [],
   "source": [
    "chat = ChatOpenAI()"
   ]
  },
  {
   "cell_type": "code",
   "execution_count": 70,
   "metadata": {},
   "outputs": [],
   "source": [
    "examples_token =[\n",
    "    {\n",
    "        \"Player\" : \"Mahendra Singh Dhoni\",\n",
    "        \"IPL Team\" : \"Chennai Super Kings\",\n",
    "        \"Stats\" : \"\"\"\n",
    "        Innings: 223\n",
    "        Aggregate: 5169\n",
    "        Highest Score: 84*\n",
    "        \"\"\",\n",
    "    },\n",
    "    {\n",
    "        \"Player\" : \"Dinesh Karthik\",\n",
    "        \"IPL Team\" : \"Delhi Capitals, Gujarat Lions, Kolkata Knight Riders, Mumbai Indians, Punjab Kings, Royal Challengers Bangalore\",\n",
    "        \"Stats\" : \"\"\"\n",
    "        Innings: 196\n",
    "        Aggregate: 3867\n",
    "        Highest Score: 97*\n",
    "        \"\"\",\n",
    "    },\n",
    "    {\n",
    "      \"Player\" : \"Rohit Sharma\",\n",
    "      \"IPL Team\" : \"Deccan Chargers , Mumbai Indians\",\n",
    "      \"Stats\" : \"\"\"\n",
    "       Innings: 245\n",
    "       Aggregate: 6508\n",
    "       Highest Score: 108*\n",
    "       \"\"\",   \n",
    "    }\n",
    "]"
   ]
  },
  {
   "cell_type": "code",
   "execution_count": 71,
   "metadata": {},
   "outputs": [],
   "source": [
    "example_prompt = PromptTemplate(\n",
    "    input_variables= [\"Player\", \"Teams\",\"Stats\"],\n",
    "    template=\"Player: {Player}\\n{IPL Team}\\n {Stats}\"\n",
    ")"
   ]
  },
  {
   "cell_type": "code",
   "execution_count": 72,
   "metadata": {},
   "outputs": [],
   "source": [
    "example_selector = LengthBasedExampleSelector(\n",
    "    examples= examples_legnth,\n",
    "    example_prompt= example_prompt,\n",
    "    max_length= 150,\n",
    "    get_text_length= chat.get_num_tokens\n",
    ")"
   ]
  },
  {
   "cell_type": "code",
   "execution_count": 73,
   "metadata": {},
   "outputs": [],
   "source": [
    "prompt = FewShotPromptTemplate(\n",
    "    example_prompt=example_prompt,\n",
    "    example_selector=example_selector,\n",
    "    prefix=\"I want to get the IPL Team, and stats\",\n",
    "    suffix=\"Player :{input}\",\n",
    "    input_variables=['input']\n",
    ")"
   ]
  },
  {
   "cell_type": "code",
   "execution_count": 74,
   "metadata": {},
   "outputs": [
    {
     "name": "stdout",
     "output_type": "stream",
     "text": [
      "I want to get the IPL Team, and stats\n",
      "\n",
      "Player: Mahendra Singh Dhoni\n",
      "Chennai Super Kings\n",
      " \n",
      "        Innings: 223\n",
      "        Aggregate: 5169\n",
      "        Highest Score: 84*\n",
      "        \n",
      "\n",
      "Player: Dinesh Karthik\n",
      "Delhi Capitals, Gujarat Lions, Kolkata Knight Riders, Mumbai Indians, Punjab Kings, Royal Challengers Bangalore\n",
      " \n",
      "        Innings: 196\n",
      "        Aggregate: 3867\n",
      "        Highest Score: 97*\n",
      "        \n",
      "\n",
      "Player: Rohit Sharma\n",
      "Deccan Chargers , Mumbai Indians\n",
      " \n",
      "       Innings: 245\n",
      "       Aggregate: 6508\n",
      "       Highest Score: 108*\n",
      "       \n",
      "\n",
      "Player :rishabh pant\n"
     ]
    }
   ],
   "source": [
    "print(prompt.format(input=\"rishabh pant\"))"
   ]
  },
  {
   "cell_type": "code",
   "execution_count": 75,
   "metadata": {},
   "outputs": [],
   "source": [
    "\n",
    "from langchain_openai import OpenAIEmbeddings\n",
    "from langchain.vectorstores import Chroma\n",
    "from langchain.prompts.example_selector import SemanticSimilarityExampleSelector"
   ]
  },
  {
   "cell_type": "code",
   "execution_count": 76,
   "metadata": {},
   "outputs": [],
   "source": [
    "examples_similarity =[\n",
    "    {\n",
    "        \"Player\" : \"Mahendra Singh Dhoni\",\n",
    "        \"IPL Team\" : \"Chennai Super Kings\",\n",
    "        \"Stats\" : \"\"\"\n",
    "        Innings: 223\n",
    "        Aggregate: 5169\n",
    "        Highest Score: 84*\n",
    "        \"\"\",\n",
    "    },\n",
    "    {\n",
    "        \"Player\" : \"Dinesh Karthik\",\n",
    "        \"IPL Team\" : \"Delhi Capitals, Gujarat Lions, Kolkata Knight Riders, Mumbai Indians, Punjab Kings, Royal Challengers Bangalore\",\n",
    "        \"Stats\" : \"\"\"\n",
    "        Innings: 196\n",
    "        Aggregate: 3867\n",
    "        Highest Score: 97*\n",
    "        \"\"\",\n",
    "    },\n",
    "    {\n",
    "      \"Player\" : \"Rohit Sharma\",\n",
    "      \"IPL Team\" : \"Deccan Chargers , Mumbai Indians\",\n",
    "      \"Stats\" : \"\"\"\n",
    "       Innings: 245\n",
    "       Aggregate: 6508\n",
    "       Highest Score: 108*\n",
    "       \"\"\",   \n",
    "    },\n",
    "    {\n",
    "      \"Player\" : \"Sharma Rohit\",\n",
    "      \"IPL Team\" : \"Deccan Chargers , Mumbai Indians\",\n",
    "      \"Stats\" : \"\"\"\n",
    "       Innings: 245\n",
    "       Aggregate: 6508\n",
    "       Highest Score: 108*\n",
    "       \"\"\",   \n",
    "    }\n",
    "]"
   ]
  },
  {
   "cell_type": "code",
   "execution_count": 77,
   "metadata": {},
   "outputs": [],
   "source": [
    "plyer_template = \"\"\"\n",
    "player:{player}\n",
    "{team}\n",
    "{stats}\"\"\""
   ]
  },
  {
   "cell_type": "code",
   "execution_count": 78,
   "metadata": {},
   "outputs": [],
   "source": [
    "example_prompt = PromptTemplate(\n",
    "     input_variables= [\"Player\", \"Teams\",\"Stats\"],\n",
    "    template=plyer_template\n",
    ")"
   ]
  }
 ],
 "metadata": {
  "kernelspec": {
   "display_name": "openaienv",
   "language": "python",
   "name": "python3"
  },
  "language_info": {
   "codemirror_mode": {
    "name": "ipython",
    "version": 3
   },
   "file_extension": ".py",
   "mimetype": "text/x-python",
   "name": "python",
   "nbconvert_exporter": "python",
   "pygments_lexer": "ipython3",
   "version": "3.12.3"
  }
 },
 "nbformat": 4,
 "nbformat_minor": 2
}
