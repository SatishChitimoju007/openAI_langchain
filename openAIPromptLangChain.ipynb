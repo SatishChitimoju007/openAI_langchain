{
 "cells": [
  {
   "cell_type": "code",
   "execution_count": 87,
   "metadata": {},
   "outputs": [
    {
     "name": "stdout",
     "output_type": "stream",
     "text": [
      "Requirement already satisfied: openai in c:\\users\\satis\\anaconda3\\envs\\openaienv\\lib\\site-packages (1.23.2)\n",
      "Requirement already satisfied: anyio<5,>=3.5.0 in c:\\users\\satis\\anaconda3\\envs\\openaienv\\lib\\site-packages (from openai) (4.3.0)\n",
      "Requirement already satisfied: distro<2,>=1.7.0 in c:\\users\\satis\\anaconda3\\envs\\openaienv\\lib\\site-packages (from openai) (1.9.0)\n",
      "Requirement already satisfied: httpx<1,>=0.23.0 in c:\\users\\satis\\anaconda3\\envs\\openaienv\\lib\\site-packages (from openai) (0.27.0)\n",
      "Requirement already satisfied: pydantic<3,>=1.9.0 in c:\\users\\satis\\anaconda3\\envs\\openaienv\\lib\\site-packages (from openai) (2.7.0)\n",
      "Requirement already satisfied: sniffio in c:\\users\\satis\\anaconda3\\envs\\openaienv\\lib\\site-packages (from openai) (1.3.1)\n",
      "Requirement already satisfied: tqdm>4 in c:\\users\\satis\\anaconda3\\envs\\openaienv\\lib\\site-packages (from openai) (4.66.2)\n",
      "Requirement already satisfied: typing-extensions<5,>=4.7 in c:\\users\\satis\\anaconda3\\envs\\openaienv\\lib\\site-packages (from openai) (4.11.0)\n",
      "Requirement already satisfied: idna>=2.8 in c:\\users\\satis\\anaconda3\\envs\\openaienv\\lib\\site-packages (from anyio<5,>=3.5.0->openai) (3.7)\n",
      "Requirement already satisfied: certifi in c:\\users\\satis\\anaconda3\\envs\\openaienv\\lib\\site-packages (from httpx<1,>=0.23.0->openai) (2024.2.2)\n",
      "Requirement already satisfied: httpcore==1.* in c:\\users\\satis\\anaconda3\\envs\\openaienv\\lib\\site-packages (from httpx<1,>=0.23.0->openai) (1.0.5)\n",
      "Requirement already satisfied: h11<0.15,>=0.13 in c:\\users\\satis\\anaconda3\\envs\\openaienv\\lib\\site-packages (from httpcore==1.*->httpx<1,>=0.23.0->openai) (0.14.0)\n",
      "Requirement already satisfied: annotated-types>=0.4.0 in c:\\users\\satis\\anaconda3\\envs\\openaienv\\lib\\site-packages (from pydantic<3,>=1.9.0->openai) (0.6.0)\n",
      "Requirement already satisfied: pydantic-core==2.18.1 in c:\\users\\satis\\anaconda3\\envs\\openaienv\\lib\\site-packages (from pydantic<3,>=1.9.0->openai) (2.18.1)\n",
      "Requirement already satisfied: colorama in c:\\users\\satis\\anaconda3\\envs\\openaienv\\lib\\site-packages (from tqdm>4->openai) (0.4.6)\n"
     ]
    }
   ],
   "source": [
    "!pip install openai"
   ]
  },
  {
   "cell_type": "code",
   "execution_count": 88,
   "metadata": {},
   "outputs": [
    {
     "name": "stdout",
     "output_type": "stream",
     "text": [
      "Requirement already satisfied: langchain in c:\\users\\satis\\anaconda3\\envs\\openaienv\\lib\\site-packages (0.1.16)\n",
      "Requirement already satisfied: PyYAML>=5.3 in c:\\users\\satis\\anaconda3\\envs\\openaienv\\lib\\site-packages (from langchain) (6.0.1)\n",
      "Requirement already satisfied: SQLAlchemy<3,>=1.4 in c:\\users\\satis\\anaconda3\\envs\\openaienv\\lib\\site-packages (from langchain) (2.0.29)\n",
      "Requirement already satisfied: aiohttp<4.0.0,>=3.8.3 in c:\\users\\satis\\anaconda3\\envs\\openaienv\\lib\\site-packages (from langchain) (3.9.5)\n",
      "Requirement already satisfied: dataclasses-json<0.7,>=0.5.7 in c:\\users\\satis\\anaconda3\\envs\\openaienv\\lib\\site-packages (from langchain) (0.6.4)\n",
      "Requirement already satisfied: jsonpatch<2.0,>=1.33 in c:\\users\\satis\\anaconda3\\envs\\openaienv\\lib\\site-packages (from langchain) (1.33)\n",
      "Requirement already satisfied: langchain-community<0.1,>=0.0.32 in c:\\users\\satis\\anaconda3\\envs\\openaienv\\lib\\site-packages (from langchain) (0.0.34)\n",
      "Requirement already satisfied: langchain-core<0.2.0,>=0.1.42 in c:\\users\\satis\\anaconda3\\envs\\openaienv\\lib\\site-packages (from langchain) (0.1.45)\n",
      "Requirement already satisfied: langchain-text-splitters<0.1,>=0.0.1 in c:\\users\\satis\\anaconda3\\envs\\openaienv\\lib\\site-packages (from langchain) (0.0.1)\n",
      "Requirement already satisfied: langsmith<0.2.0,>=0.1.17 in c:\\users\\satis\\anaconda3\\envs\\openaienv\\lib\\site-packages (from langchain) (0.1.49)\n",
      "Requirement already satisfied: numpy<2,>=1 in c:\\users\\satis\\anaconda3\\envs\\openaienv\\lib\\site-packages (from langchain) (1.26.4)\n",
      "Requirement already satisfied: pydantic<3,>=1 in c:\\users\\satis\\anaconda3\\envs\\openaienv\\lib\\site-packages (from langchain) (2.7.0)\n",
      "Requirement already satisfied: requests<3,>=2 in c:\\users\\satis\\anaconda3\\envs\\openaienv\\lib\\site-packages (from langchain) (2.31.0)\n",
      "Requirement already satisfied: tenacity<9.0.0,>=8.1.0 in c:\\users\\satis\\anaconda3\\envs\\openaienv\\lib\\site-packages (from langchain) (8.2.3)\n",
      "Requirement already satisfied: aiosignal>=1.1.2 in c:\\users\\satis\\anaconda3\\envs\\openaienv\\lib\\site-packages (from aiohttp<4.0.0,>=3.8.3->langchain) (1.3.1)\n",
      "Requirement already satisfied: attrs>=17.3.0 in c:\\users\\satis\\anaconda3\\envs\\openaienv\\lib\\site-packages (from aiohttp<4.0.0,>=3.8.3->langchain) (23.2.0)\n",
      "Requirement already satisfied: frozenlist>=1.1.1 in c:\\users\\satis\\anaconda3\\envs\\openaienv\\lib\\site-packages (from aiohttp<4.0.0,>=3.8.3->langchain) (1.4.1)\n",
      "Requirement already satisfied: multidict<7.0,>=4.5 in c:\\users\\satis\\anaconda3\\envs\\openaienv\\lib\\site-packages (from aiohttp<4.0.0,>=3.8.3->langchain) (6.0.5)\n",
      "Requirement already satisfied: yarl<2.0,>=1.0 in c:\\users\\satis\\anaconda3\\envs\\openaienv\\lib\\site-packages (from aiohttp<4.0.0,>=3.8.3->langchain) (1.9.4)\n",
      "Requirement already satisfied: marshmallow<4.0.0,>=3.18.0 in c:\\users\\satis\\anaconda3\\envs\\openaienv\\lib\\site-packages (from dataclasses-json<0.7,>=0.5.7->langchain) (3.21.1)\n",
      "Requirement already satisfied: typing-inspect<1,>=0.4.0 in c:\\users\\satis\\anaconda3\\envs\\openaienv\\lib\\site-packages (from dataclasses-json<0.7,>=0.5.7->langchain) (0.9.0)\n",
      "Requirement already satisfied: jsonpointer>=1.9 in c:\\users\\satis\\anaconda3\\envs\\openaienv\\lib\\site-packages (from jsonpatch<2.0,>=1.33->langchain) (2.4)\n",
      "Requirement already satisfied: packaging<24.0,>=23.2 in c:\\users\\satis\\anaconda3\\envs\\openaienv\\lib\\site-packages (from langchain-core<0.2.0,>=0.1.42->langchain) (23.2)\n",
      "Requirement already satisfied: orjson<4.0.0,>=3.9.14 in c:\\users\\satis\\anaconda3\\envs\\openaienv\\lib\\site-packages (from langsmith<0.2.0,>=0.1.17->langchain) (3.10.1)\n",
      "Requirement already satisfied: annotated-types>=0.4.0 in c:\\users\\satis\\anaconda3\\envs\\openaienv\\lib\\site-packages (from pydantic<3,>=1->langchain) (0.6.0)\n",
      "Requirement already satisfied: pydantic-core==2.18.1 in c:\\users\\satis\\anaconda3\\envs\\openaienv\\lib\\site-packages (from pydantic<3,>=1->langchain) (2.18.1)\n",
      "Requirement already satisfied: typing-extensions>=4.6.1 in c:\\users\\satis\\anaconda3\\envs\\openaienv\\lib\\site-packages (from pydantic<3,>=1->langchain) (4.11.0)\n",
      "Requirement already satisfied: charset-normalizer<4,>=2 in c:\\users\\satis\\anaconda3\\envs\\openaienv\\lib\\site-packages (from requests<3,>=2->langchain) (3.3.2)\n",
      "Requirement already satisfied: idna<4,>=2.5 in c:\\users\\satis\\anaconda3\\envs\\openaienv\\lib\\site-packages (from requests<3,>=2->langchain) (3.7)\n",
      "Requirement already satisfied: urllib3<3,>=1.21.1 in c:\\users\\satis\\anaconda3\\envs\\openaienv\\lib\\site-packages (from requests<3,>=2->langchain) (2.2.1)\n",
      "Requirement already satisfied: certifi>=2017.4.17 in c:\\users\\satis\\anaconda3\\envs\\openaienv\\lib\\site-packages (from requests<3,>=2->langchain) (2024.2.2)\n",
      "Requirement already satisfied: greenlet!=0.4.17 in c:\\users\\satis\\anaconda3\\envs\\openaienv\\lib\\site-packages (from SQLAlchemy<3,>=1.4->langchain) (3.0.3)\n",
      "Requirement already satisfied: mypy-extensions>=0.3.0 in c:\\users\\satis\\anaconda3\\envs\\openaienv\\lib\\site-packages (from typing-inspect<1,>=0.4.0->dataclasses-json<0.7,>=0.5.7->langchain) (1.0.0)\n"
     ]
    }
   ],
   "source": [
    "!pip install langchain"
   ]
  },
  {
   "cell_type": "code",
   "execution_count": 89,
   "metadata": {},
   "outputs": [],
   "source": [
    "import os\n",
    "os.environ['OPENAI_API_KEY'] = \"************\"\n"
   ]
  },
  {
   "cell_type": "code",
   "execution_count": 90,
   "metadata": {},
   "outputs": [],
   "source": [
    "from langchain.llms import OpenAI"
   ]
  },
  {
   "cell_type": "code",
   "execution_count": 91,
   "metadata": {},
   "outputs": [],
   "source": [
    "llm = OpenAI(temperature=0.9)"
   ]
  },
  {
   "cell_type": "code",
   "execution_count": 92,
   "metadata": {},
   "outputs": [],
   "source": [
    "text = \"Create a cricket team name that would be great for IPL Expansion\""
   ]
  },
  {
   "cell_type": "code",
   "execution_count": 93,
   "metadata": {},
   "outputs": [],
   "source": [
    "from langchain.prompts import PromptTemplate"
   ]
  },
  {
   "cell_type": "code",
   "execution_count": 99,
   "metadata": {},
   "outputs": [
    {
     "name": "stdout",
     "output_type": "stream",
     "text": [
      "\n",
      "\n",
      "Red Stormers\n"
     ]
    }
   ],
   "source": [
    "llm = OpenAI(temperature=0.5)\n",
    "prompt_template_iplcricket_team = PromptTemplate(\n",
    "    input_variables=['city','color'],\n",
    "    template=\"Create a cricket team name that would be great for IPL Expansion in {city} and primary color {color}\"\n",
    ")\n",
    "\n",
    "\n",
    "prompt = prompt_template_iplcricket_team.format(city=\"Vishakapatnam\", color=\"red\")\n",
    "\n",
    "print(llm(prompt))"
   ]
  },
  {
   "cell_type": "code",
   "execution_count": 100,
   "metadata": {},
   "outputs": [],
   "source": [
    "prompt_template_iplcricket_team.save(\"iplcricket.json\")"
   ]
  },
  {
   "cell_type": "code",
   "execution_count": 101,
   "metadata": {},
   "outputs": [],
   "source": [
    "from langchain.prompts import load_prompt"
   ]
  },
  {
   "cell_type": "code",
   "execution_count": 102,
   "metadata": {},
   "outputs": [],
   "source": [
    "loaded_prompt = load_prompt(\"iplcricket.json\")"
   ]
  },
  {
   "cell_type": "code",
   "execution_count": 103,
   "metadata": {},
   "outputs": [
    {
     "name": "stdout",
     "output_type": "stream",
     "text": [
      "Create a cricket team name that would be great for IPL Expansion in Vishakapatnam and primary color orange\n"
     ]
    }
   ],
   "source": [
    "print(loaded_prompt.format(city=\"Vishakapatnam\", color=\"orange\"))"
   ]
  },
  {
   "cell_type": "code",
   "execution_count": 106,
   "metadata": {},
   "outputs": [
    {
     "name": "stdout",
     "output_type": "stream",
     "text": [
      "\n",
      "\n",
      "Orange Vipers\n"
     ]
    }
   ],
   "source": [
    "print(llm(loaded_prompt.format(city=\"Vishakapatnam\", color=\"orange\")))"
   ]
  },
  {
   "cell_type": "code",
   "execution_count": 107,
   "metadata": {},
   "outputs": [],
   "source": [
    "from langchain.chains import LLMChain"
   ]
  },
  {
   "cell_type": "code",
   "execution_count": 109,
   "metadata": {},
   "outputs": [],
   "source": [
    "def generate_team_name(city,color):\n",
    "    llm = OpenAI(temperature=0.5)\n",
    "\n",
    "    prompt_template_iplcricket_team = PromptTemplate(\n",
    "        input_variables=['city','color'],\n",
    "        template= \"Create a cricket team name that would be great for IPL Expansion in {city} and primary color {color}\"\n",
    "    )\n",
    "\n",
    "    iplcricketchain = LLMChain(llm=llm, prompt=prompt_template_iplcricket_team)\n",
    "\n",
    "    response = iplcricketchain({'city': city, 'color':color})\n",
    "\n",
    "    return response"
   ]
  },
  {
   "cell_type": "code",
   "execution_count": 112,
   "metadata": {},
   "outputs": [
    {
     "name": "stdout",
     "output_type": "stream",
     "text": [
      "{'city': 'Vishakapatnam', 'color': 'Yellow', 'text': '\\n\\n\"Vishaka Vipers\" '}\n"
     ]
    }
   ],
   "source": [
    "print(generate_team_name('Vishakapatnam','Yellow'))"
   ]
  },
  {
   "cell_type": "code",
   "execution_count": 114,
   "metadata": {},
   "outputs": [
    {
     "name": "stdout",
     "output_type": "stream",
     "text": [
      "\n",
      "\n",
      "1. Adam Gilchrist (Wicket-keeper/Batsman)\n",
      "2. Sachin Tendulkar (Batsman)\n",
      "3. Ricky Ponting (Batsman)\n",
      "4. Brian Lara (Batsman)\n",
      "5. Jacques Kallis (All-rounder)\n",
      "6. Andrew Flintoff (All-rounder)\n",
      "7. Muttiah Muralitharan (Bowler)\n",
      "8. Glenn McGrath (Bowler)\n",
      "9. Shane Warne (Bowler)\n",
      "10. Shoaib Akhtar (Bowler)\n",
      "11. Shaun Pollock (Bowler)\n",
      "\n",
      "12th Man: Kumar Sangakkara (Wicket-keeper/Batsman)\n",
      "\n",
      "Note: This team is based on the players' performances in the 2005 season and does not include any current players. The positions listed are based on the players' primary roles in the team.\n"
     ]
    }
   ],
   "source": [
    "llm = OpenAI(temperature=0.5)\n",
    "iplcricket_promt_lineup = PromptTemplate.from_template(\n",
    "    template=\"Create a ipl cricket team line up of the best players in the {decade}s. Usa a {lineup_format}\"\n",
    ")\n",
    "\n",
    "iplcricket_prompt = iplcricket_promt_lineup.format(\n",
    "    decade = \"2005\",\n",
    "    lineup_format=\"1 through 11 with positions\"\n",
    ")\n",
    "\n",
    "response = llm.predict(text=iplcricket_prompt)\n",
    "\n",
    "print(response)"
   ]
  }
 ],
 "metadata": {
  "kernelspec": {
   "display_name": "openaienv",
   "language": "python",
   "name": "python3"
  },
  "language_info": {
   "codemirror_mode": {
    "name": "ipython",
    "version": 3
   },
   "file_extension": ".py",
   "mimetype": "text/x-python",
   "name": "python",
   "nbconvert_exporter": "python",
   "pygments_lexer": "ipython3",
   "version": "3.12.3"
  }
 },
 "nbformat": 4,
 "nbformat_minor": 2
}
