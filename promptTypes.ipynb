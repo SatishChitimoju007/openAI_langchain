{
 "cells": [
  {
   "cell_type": "code",
   "execution_count": 92,
   "metadata": {},
   "outputs": [
    {
     "name": "stdout",
     "output_type": "stream",
     "text": [
      "Requirement already satisfied: openai in c:\\users\\satis\\anaconda3\\envs\\openaienv\\lib\\site-packages (1.23.2)\n",
      "Requirement already satisfied: anyio<5,>=3.5.0 in c:\\users\\satis\\anaconda3\\envs\\openaienv\\lib\\site-packages (from openai) (4.3.0)\n",
      "Requirement already satisfied: distro<2,>=1.7.0 in c:\\users\\satis\\anaconda3\\envs\\openaienv\\lib\\site-packages (from openai) (1.9.0)\n",
      "Requirement already satisfied: httpx<1,>=0.23.0 in c:\\users\\satis\\anaconda3\\envs\\openaienv\\lib\\site-packages (from openai) (0.27.0)\n",
      "Requirement already satisfied: pydantic<3,>=1.9.0 in c:\\users\\satis\\anaconda3\\envs\\openaienv\\lib\\site-packages (from openai) (2.7.0)\n",
      "Requirement already satisfied: sniffio in c:\\users\\satis\\anaconda3\\envs\\openaienv\\lib\\site-packages (from openai) (1.3.1)\n",
      "Requirement already satisfied: tqdm>4 in c:\\users\\satis\\anaconda3\\envs\\openaienv\\lib\\site-packages (from openai) (4.66.2)\n",
      "Requirement already satisfied: typing-extensions<5,>=4.7 in c:\\users\\satis\\anaconda3\\envs\\openaienv\\lib\\site-packages (from openai) (4.11.0)\n",
      "Requirement already satisfied: idna>=2.8 in c:\\users\\satis\\anaconda3\\envs\\openaienv\\lib\\site-packages (from anyio<5,>=3.5.0->openai) (3.7)\n",
      "Requirement already satisfied: certifi in c:\\users\\satis\\anaconda3\\envs\\openaienv\\lib\\site-packages (from httpx<1,>=0.23.0->openai) (2024.2.2)\n",
      "Requirement already satisfied: httpcore==1.* in c:\\users\\satis\\anaconda3\\envs\\openaienv\\lib\\site-packages (from httpx<1,>=0.23.0->openai) (1.0.5)\n",
      "Requirement already satisfied: h11<0.15,>=0.13 in c:\\users\\satis\\anaconda3\\envs\\openaienv\\lib\\site-packages (from httpcore==1.*->httpx<1,>=0.23.0->openai) (0.14.0)\n",
      "Requirement already satisfied: annotated-types>=0.4.0 in c:\\users\\satis\\anaconda3\\envs\\openaienv\\lib\\site-packages (from pydantic<3,>=1.9.0->openai) (0.6.0)\n",
      "Requirement already satisfied: pydantic-core==2.18.1 in c:\\users\\satis\\anaconda3\\envs\\openaienv\\lib\\site-packages (from pydantic<3,>=1.9.0->openai) (2.18.1)\n",
      "Requirement already satisfied: colorama in c:\\users\\satis\\anaconda3\\envs\\openaienv\\lib\\site-packages (from tqdm>4->openai) (0.4.6)\n"
     ]
    }
   ],
   "source": [
    "!pip install openai"
   ]
  },
  {
   "cell_type": "code",
   "execution_count": 93,
   "metadata": {},
   "outputs": [
    {
     "name": "stdout",
     "output_type": "stream",
     "text": [
      "Requirement already satisfied: langchain in c:\\users\\satis\\anaconda3\\envs\\openaienv\\lib\\site-packages (0.1.16)\n",
      "Requirement already satisfied: PyYAML>=5.3 in c:\\users\\satis\\anaconda3\\envs\\openaienv\\lib\\site-packages (from langchain) (6.0.1)\n",
      "Requirement already satisfied: SQLAlchemy<3,>=1.4 in c:\\users\\satis\\anaconda3\\envs\\openaienv\\lib\\site-packages (from langchain) (2.0.29)\n",
      "Requirement already satisfied: aiohttp<4.0.0,>=3.8.3 in c:\\users\\satis\\anaconda3\\envs\\openaienv\\lib\\site-packages (from langchain) (3.9.5)\n",
      "Requirement already satisfied: dataclasses-json<0.7,>=0.5.7 in c:\\users\\satis\\anaconda3\\envs\\openaienv\\lib\\site-packages (from langchain) (0.6.4)\n",
      "Requirement already satisfied: jsonpatch<2.0,>=1.33 in c:\\users\\satis\\anaconda3\\envs\\openaienv\\lib\\site-packages (from langchain) (1.33)\n",
      "Requirement already satisfied: langchain-community<0.1,>=0.0.32 in c:\\users\\satis\\anaconda3\\envs\\openaienv\\lib\\site-packages (from langchain) (0.0.34)\n",
      "Requirement already satisfied: langchain-core<0.2.0,>=0.1.42 in c:\\users\\satis\\anaconda3\\envs\\openaienv\\lib\\site-packages (from langchain) (0.1.45)\n",
      "Requirement already satisfied: langchain-text-splitters<0.1,>=0.0.1 in c:\\users\\satis\\anaconda3\\envs\\openaienv\\lib\\site-packages (from langchain) (0.0.1)\n",
      "Requirement already satisfied: langsmith<0.2.0,>=0.1.17 in c:\\users\\satis\\anaconda3\\envs\\openaienv\\lib\\site-packages (from langchain) (0.1.49)\n",
      "Requirement already satisfied: numpy<2,>=1 in c:\\users\\satis\\anaconda3\\envs\\openaienv\\lib\\site-packages (from langchain) (1.26.4)\n",
      "Requirement already satisfied: pydantic<3,>=1 in c:\\users\\satis\\anaconda3\\envs\\openaienv\\lib\\site-packages (from langchain) (2.7.0)\n",
      "Requirement already satisfied: requests<3,>=2 in c:\\users\\satis\\anaconda3\\envs\\openaienv\\lib\\site-packages (from langchain) (2.31.0)\n",
      "Requirement already satisfied: tenacity<9.0.0,>=8.1.0 in c:\\users\\satis\\anaconda3\\envs\\openaienv\\lib\\site-packages (from langchain) (8.2.3)\n",
      "Requirement already satisfied: aiosignal>=1.1.2 in c:\\users\\satis\\anaconda3\\envs\\openaienv\\lib\\site-packages (from aiohttp<4.0.0,>=3.8.3->langchain) (1.3.1)\n",
      "Requirement already satisfied: attrs>=17.3.0 in c:\\users\\satis\\anaconda3\\envs\\openaienv\\lib\\site-packages (from aiohttp<4.0.0,>=3.8.3->langchain) (23.2.0)\n",
      "Requirement already satisfied: frozenlist>=1.1.1 in c:\\users\\satis\\anaconda3\\envs\\openaienv\\lib\\site-packages (from aiohttp<4.0.0,>=3.8.3->langchain) (1.4.1)\n",
      "Requirement already satisfied: multidict<7.0,>=4.5 in c:\\users\\satis\\anaconda3\\envs\\openaienv\\lib\\site-packages (from aiohttp<4.0.0,>=3.8.3->langchain) (6.0.5)\n",
      "Requirement already satisfied: yarl<2.0,>=1.0 in c:\\users\\satis\\anaconda3\\envs\\openaienv\\lib\\site-packages (from aiohttp<4.0.0,>=3.8.3->langchain) (1.9.4)\n",
      "Requirement already satisfied: marshmallow<4.0.0,>=3.18.0 in c:\\users\\satis\\anaconda3\\envs\\openaienv\\lib\\site-packages (from dataclasses-json<0.7,>=0.5.7->langchain) (3.21.1)\n",
      "Requirement already satisfied: typing-inspect<1,>=0.4.0 in c:\\users\\satis\\anaconda3\\envs\\openaienv\\lib\\site-packages (from dataclasses-json<0.7,>=0.5.7->langchain) (0.9.0)\n",
      "Requirement already satisfied: jsonpointer>=1.9 in c:\\users\\satis\\anaconda3\\envs\\openaienv\\lib\\site-packages (from jsonpatch<2.0,>=1.33->langchain) (2.4)\n",
      "Requirement already satisfied: packaging<24.0,>=23.2 in c:\\users\\satis\\anaconda3\\envs\\openaienv\\lib\\site-packages (from langchain-core<0.2.0,>=0.1.42->langchain) (23.2)\n",
      "Requirement already satisfied: orjson<4.0.0,>=3.9.14 in c:\\users\\satis\\anaconda3\\envs\\openaienv\\lib\\site-packages (from langsmith<0.2.0,>=0.1.17->langchain) (3.10.1)\n",
      "Requirement already satisfied: annotated-types>=0.4.0 in c:\\users\\satis\\anaconda3\\envs\\openaienv\\lib\\site-packages (from pydantic<3,>=1->langchain) (0.6.0)\n",
      "Requirement already satisfied: pydantic-core==2.18.1 in c:\\users\\satis\\anaconda3\\envs\\openaienv\\lib\\site-packages (from pydantic<3,>=1->langchain) (2.18.1)\n",
      "Requirement already satisfied: typing-extensions>=4.6.1 in c:\\users\\satis\\anaconda3\\envs\\openaienv\\lib\\site-packages (from pydantic<3,>=1->langchain) (4.11.0)\n",
      "Requirement already satisfied: charset-normalizer<4,>=2 in c:\\users\\satis\\anaconda3\\envs\\openaienv\\lib\\site-packages (from requests<3,>=2->langchain) (3.3.2)\n",
      "Requirement already satisfied: idna<4,>=2.5 in c:\\users\\satis\\anaconda3\\envs\\openaienv\\lib\\site-packages (from requests<3,>=2->langchain) (3.7)\n",
      "Requirement already satisfied: urllib3<3,>=1.21.1 in c:\\users\\satis\\anaconda3\\envs\\openaienv\\lib\\site-packages (from requests<3,>=2->langchain) (2.2.1)\n",
      "Requirement already satisfied: certifi>=2017.4.17 in c:\\users\\satis\\anaconda3\\envs\\openaienv\\lib\\site-packages (from requests<3,>=2->langchain) (2024.2.2)\n",
      "Requirement already satisfied: greenlet!=0.4.17 in c:\\users\\satis\\anaconda3\\envs\\openaienv\\lib\\site-packages (from SQLAlchemy<3,>=1.4->langchain) (3.0.3)\n",
      "Requirement already satisfied: mypy-extensions>=0.3.0 in c:\\users\\satis\\anaconda3\\envs\\openaienv\\lib\\site-packages (from typing-inspect<1,>=0.4.0->dataclasses-json<0.7,>=0.5.7->langchain) (1.0.0)\n"
     ]
    }
   ],
   "source": [
    "!pip install langchain"
   ]
  },
  {
   "cell_type": "code",
   "execution_count": 94,
   "metadata": {},
   "outputs": [],
   "source": [
    "import os\n",
    "os.environ['OPENAI_API_KEY'] = \"*******************\""
   ]
  },
  {
   "cell_type": "code",
   "execution_count": 95,
   "metadata": {},
   "outputs": [],
   "source": [
    "import warnings\n",
    "warnings.filterwarnings(\"ignore\", category=DeprecationWarning)"
   ]
  },
  {
   "cell_type": "code",
   "execution_count": 96,
   "metadata": {},
   "outputs": [
    {
     "name": "stdout",
     "output_type": "stream",
     "text": [
      " is considered as the God of cricket by his fans. He is one of the greatest cricketers to have ever played the game and holds several records in international cricket. Tendulkar made his debut for the Indian cricket team at the young age of 16 and went on to have a career spanning 24 years. He is the only player to have scored 100 international centuries and has the most runs in both Test and ODI cricket.\n",
      "\n",
      "Apart from his incredible batting skills, Tendulkar is also known for his humility and sportsmanship on and off the field. He has been an inspiration to millions of aspiring cricketers and is revered by fans from all over the world. Tendulkar's impact on the game of cricket is immeasurable and he continues to be a role model for future generations.\n",
      "\n",
      "Tendulkar's love for the game and dedication towards it is unmatched. He has faced numerous challenges and setbacks throughout his career, but he never let them affect his passion for the game. Tendulkar's determination and hard work have been the key factors behind his success and have earned him the respect and admiration of cricket fans worldwide.\n",
      "\n",
      "Moreover, Tendulkar's contributions to Indian cricket go beyond his on-field performances. He has been\n"
     ]
    }
   ],
   "source": [
    "#Zero Shot Example\n",
    "\n",
    "from langchain.llms import OpenAI\n",
    "\n",
    "llm = OpenAI(temperature=0.6)\n",
    "\n",
    "text = \"Sachin Tendulkar\"\n",
    "\n",
    "print(llm(text))"
   ]
  },
  {
   "cell_type": "code",
   "execution_count": 97,
   "metadata": {},
   "outputs": [],
   "source": [
    "# One Shot\n",
    "from langchain.prompts.few_shot import FewShotPromptTemplate\n",
    "from langchain.prompts.prompt import PromptTemplate"
   ]
  },
  {
   "cell_type": "code",
   "execution_count": 98,
   "metadata": {},
   "outputs": [],
   "source": [
    "example = [\n",
    "    {\n",
    "        \"Player\" : \"Mahendra Singh Dhoni\",\n",
    "        \"IPL Team\" : \"Chennai Super Kings\",\n",
    "        \"Stats\" : \"\"\"\n",
    "         Innings: 223\n",
    "         Aggregate: 5169\n",
    "         Highest Score: 84*\n",
    "         \"\"\",\n",
    "    }\n",
    "]"
   ]
  },
  {
   "cell_type": "code",
   "execution_count": 99,
   "metadata": {},
   "outputs": [],
   "source": [
    "example_prompt = PromptTemplate(\n",
    "    input_variables=[\"Player\",\"Stats\"],\n",
    "    template= \"Player: {Player}\\n{Stats}\"\n",
    ")"
   ]
  },
  {
   "cell_type": "code",
   "execution_count": 100,
   "metadata": {},
   "outputs": [
    {
     "name": "stdout",
     "output_type": "stream",
     "text": [
      "Player: Mahendra Singh Dhoni\n",
      "\n",
      "         Innings: 223\n",
      "         Aggregate: 5169\n",
      "         Highest Score: 84*\n",
      "         \n"
     ]
    }
   ],
   "source": [
    "print(example_prompt.format(**example[0]))"
   ]
  },
  {
   "cell_type": "code",
   "execution_count": 101,
   "metadata": {},
   "outputs": [],
   "source": [
    "prompt = FewShotPromptTemplate(\n",
    "    examples=example,\n",
    "    example_prompt=example_prompt,\n",
    "    suffix=\"Player: {input}\",\n",
    "    input_variables=[\"input\"]\n",
    ")"
   ]
  },
  {
   "cell_type": "code",
   "execution_count": 102,
   "metadata": {},
   "outputs": [
    {
     "name": "stdout",
     "output_type": "stream",
     "text": [
      "Player: Mahendra Singh Dhoni\n",
      "\n",
      "         Innings: 223\n",
      "         Aggregate: 5169\n",
      "         Highest Score: 84*\n",
      "         \n",
      "\n",
      "Player: Krishnakumar Dinesh Karthik\n"
     ]
    }
   ],
   "source": [
    "print(prompt.format(input=\"Krishnakumar Dinesh Karthik\"))"
   ]
  },
  {
   "cell_type": "code",
   "execution_count": 103,
   "metadata": {},
   "outputs": [
    {
     "name": "stdout",
     "output_type": "stream",
     "text": [
      "\n",
      "\n",
      "         Innings: 94\n",
      "         Aggregate: 1738\n",
      "         Highest Score: 79\n"
     ]
    }
   ],
   "source": [
    "print(llm(prompt.format(input=\"Dinesh Karthik\")))"
   ]
  },
  {
   "cell_type": "code",
   "execution_count": 104,
   "metadata": {},
   "outputs": [],
   "source": [
    "examples = [\n",
    "    {\n",
    "        \"Player\" : \"Mahendra Singh Dhoni\",\n",
    "        \"IPL Team\" : \"Chennai Super Kings\",\n",
    "        \"Stats\" : \"\"\"\n",
    "        Innings: 223\n",
    "        Aggregate: 5169\n",
    "        Highest Score: 84*\n",
    "        \"\"\",\n",
    "    },\n",
    "    {\n",
    "        \"Player\" : \"Dinesh Karthik\",\n",
    "        \"IPL Team\" : \"Delhi Capitals, Gujarat Lions, Kolkata Knight Riders, Mumbai Indians, Punjab Kings, Royal Challengers Bangalore\",\n",
    "        \"Stats\" : \"\"\"\n",
    "        Innings: 196\n",
    "        Aggregate: 3867\n",
    "        Highest Score: 97*\n",
    "        \"\"\",\n",
    "    },\n",
    "    {\n",
    "      \"Player\" : \"Rohit Sharma\",\n",
    "      \"IPL Team\" : \"Deccan Chargers , Mumbai Indians\",\n",
    "      \"Stats\" : \"\"\"\n",
    "       Innings: 245\n",
    "       Aggregate: 6508\n",
    "       Highest Score: 108*\n",
    "       \"\"\",   \n",
    "    }\n",
    "]"
   ]
  },
  {
   "cell_type": "code",
   "execution_count": 105,
   "metadata": {},
   "outputs": [],
   "source": [
    "example_prompt = PromptTemplate(\n",
    "    input_variables=[\"Player\",\"IPL Team\",\"Stats\"],\n",
    "    template=\"Player: {Player}\\n{IPL Team}\\n {Stats}\"\n",
    ")"
   ]
  },
  {
   "cell_type": "code",
   "execution_count": 106,
   "metadata": {},
   "outputs": [],
   "source": [
    "prompt = FewShotPromptTemplate(\n",
    "    examples=examples,\n",
    "    example_prompt=example_prompt,\n",
    "    suffix=\"Player: {input}\",\n",
    "    input_variables=[\"input\"]\n",
    ")"
   ]
  },
  {
   "cell_type": "code",
   "execution_count": 107,
   "metadata": {},
   "outputs": [
    {
     "name": "stdout",
     "output_type": "stream",
     "text": [
      "Player: Mahendra Singh Dhoni\n",
      "Chennai Super Kings\n",
      " \n",
      "        Innings: 223\n",
      "        Aggregate: 5169\n",
      "        Highest Score: 84*\n",
      "        \n",
      "\n",
      "Player: Dinesh Karthik\n",
      "Delhi Capitals, Gujarat Lions, Kolkata Knight Riders, Mumbai Indians, Punjab Kings, Royal Challengers Bangalore\n",
      " \n",
      "        Innings: 196\n",
      "        Aggregate: 3867\n",
      "        Highest Score: 97*\n",
      "        \n",
      "\n",
      "Player: Rohit Sharma\n",
      "Deccan Chargers , Mumbai Indians\n",
      " \n",
      "       Innings: 245\n",
      "       Aggregate: 6508\n",
      "       Highest Score: 108*\n",
      "       \n",
      "\n",
      "Player: Shikhar dhawan\n"
     ]
    }
   ],
   "source": [
    "print(prompt.format(input=\"Shikhar dhawan\"))"
   ]
  },
  {
   "cell_type": "code",
   "execution_count": 108,
   "metadata": {},
   "outputs": [
    {
     "name": "stdout",
     "output_type": "stream",
     "text": [
      "\n",
      "Deccan Chargers, Delhi Capitals, Delhi Daredevils, Mumbai Indians, Sunrisers Hyderabad\n",
      " \n",
      "        Innings: 189\n",
      "        Aggregate: 5177\n",
      "        Highest Score: 106*\n"
     ]
    }
   ],
   "source": [
    "print(llm(prompt.format(input=\"Shikhar dhawan\")))"
   ]
  }
 ],
 "metadata": {
  "kernelspec": {
   "display_name": "openaienv",
   "language": "python",
   "name": "python3"
  },
  "language_info": {
   "codemirror_mode": {
    "name": "ipython",
    "version": 3
   },
   "file_extension": ".py",
   "mimetype": "text/x-python",
   "name": "python",
   "nbconvert_exporter": "python",
   "pygments_lexer": "ipython3",
   "version": "3.12.3"
  }
 },
 "nbformat": 4,
 "nbformat_minor": 2
}
